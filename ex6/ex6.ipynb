{
 "cells": [
  {
   "cell_type": "markdown",
   "metadata": {},
   "source": [
    "<h1><center>Programming Exercise 6:<br>Support Vector Machines</center></h1>"
   ]
  },
  {
   "cell_type": "code",
   "execution_count": 38,
   "metadata": {
    "collapsed": false
   },
   "outputs": [],
   "source": [
    "from scipy.io import loadmat\n",
    "import numpy as np\n",
    "import matplotlib.pyplot as plt\n",
    "import matplotlib as mpl\n",
    "from sklearn import svm\n",
    "import L67Data\n",
    "from numpy import linalg as LA\n",
    "import re\n",
    "from nltk.stem import PorterStemmer\n",
    "\n",
    "mpl.rcParams['figure.figsize'] = (10,6)"
   ]
  },
  {
   "cell_type": "markdown",
   "metadata": {},
   "source": [
    "# 1. Support Vector Machines\n",
    "- Use SVMs with various example 2D dataset"
   ]
  },
  {
   "cell_type": "markdown",
   "metadata": {},
   "source": [
    "## 1.1 Examples Dataset 1\n",
    "- The data in `ex6data1.mat` can be separated by a linear boundary. The positions of the positive examples (+) and the negative examples (o) suggest a natural separation indicated by the gap. However, there is an outlier positive example on the far left at about (0.1,0.4). We will see how this outlier affects the SVM decision boundary"
   ]
  },
  {
   "cell_type": "code",
   "execution_count": 2,
   "metadata": {
    "collapsed": false
   },
   "outputs": [],
   "source": [
    "data1 = loadmat('ex6data1.mat')\n",
    "X = data1['X'] # no need to add the bias terms, the svm object does it internally\n",
    "y = data1['y'].flatten() # output labels"
   ]
  },
  {
   "cell_type": "code",
   "execution_count": 3,
   "metadata": {
    "collapsed": false
   },
   "outputs": [
    {
     "data": {
      "image/png": "[encoded data removed]",
      "text/plain": [
       "<matplotlib.figure.Figure at 0x7f77e0c72c18>"
      ]
     },
     "metadata": {},
     "output_type": "display_data"
    }
   ],
   "source": [
    "plt.figure()\n",
    "plt.grid(True)\n",
    "plt.scatter(X[:,0][y==1],X[:,1][y==1],marker='+',edgecolors='k',facecolor='k')\n",
    "plt.scatter(X[:,0][y==0],X[:,1][y==0],marker='o',edgecolors='k',facecolor='yellow')\n",
    "plt.xlim(0,4.5)\n",
    "plt.ylim(1.5,5)\n",
    "plt.xlabel(r'$x_1$',fontsize=14)\n",
    "plt.ylabel(r'$x_2$',fontsize=14)\n",
    "plt.show()"
   ]
  },
  {
   "cell_type": "markdown",
   "metadata": {},
   "source": [
    "- Try different values of the $C$ parameter with SVMs\n",
    "- Informally $C$ is a positive value that controls the penalty for misclassified training examples. A large $C$ parameters tells the SVM to try to classify all examples correctly. $C$ plays a role similar to $1/\\lambda$, the reg. parameter for logistic regression\n",
    "- Train the SVM with both $C=1$ and $C=100$\n",
    "- We use an SVM from the sklearn library"
   ]
  },
  {
   "cell_type": "code",
   "execution_count": 4,
   "metadata": {
    "collapsed": true
   },
   "outputs": [],
   "source": [
    "svc = svm.SVC(C=1.0,kernel='linear') # initialize linear SVM instance"
   ]
  },
  {
   "cell_type": "code",
   "execution_count": 5,
   "metadata": {
    "collapsed": false
   },
   "outputs": [
    {
     "data": {
      "text/plain": [
       "SVC(C=1.0, cache_size=200, class_weight=None, coef0=0.0,\n",
       "  decision_function_shape=None, degree=3, gamma='auto', kernel='linear',\n",
       "  max_iter=-1, probability=False, random_state=None, shrinking=True,\n",
       "  tol=0.001, verbose=False)"
      ]
     },
     "execution_count": 5,
     "metadata": {},
     "output_type": "execute_result"
    }
   ],
   "source": [
    "svc.fit(X,y) # train classifier"
   ]
  },
  {
   "cell_type": "markdown",
   "metadata": {},
   "source": [
    "- Perform prediction over grid:"
   ]
  },
  {
   "cell_type": "code",
   "execution_count": 6,
   "metadata": {
    "collapsed": false
   },
   "outputs": [],
   "source": [
    "# Create a mesh to plot in\n",
    "h = .02  # Step size in the mesh\n",
    "x_min, x_max = 0, 4.5\n",
    "y_min, y_max = 1.5, 5\n",
    "xx, yy = np.meshgrid(np.arange(x_min, x_max, h),\n",
    "                     np.arange(y_min, y_max, h))\n",
    "# Plot the decision boundary. For that, we will assign a color to each point in the mesh\n",
    "z_svc = svc.predict(np.c_[xx.ravel(), yy.ravel()])\n",
    "# Put the result into a color plot\n",
    "z_svc = z_svc.reshape(xx.shape)"
   ]
  },
  {
   "cell_type": "markdown",
   "metadata": {},
   "source": [
    "- Plot over mesh but first make a custom colormap since we want to plot the two classes as either yellow ($y=0$) or black ($y=1$)"
   ]
  },
  {
   "cell_type": "code",
   "execution_count": 7,
   "metadata": {
    "collapsed": true
   },
   "outputs": [],
   "source": [
    "yellow_black = L67Data.make_colormap(['yellow','k'])"
   ]
  },
  {
   "cell_type": "code",
   "execution_count": 8,
   "metadata": {
    "collapsed": false
   },
   "outputs": [
    {
     "data": {
      "image/png": "[encoded data removed]",
      "text/plain": [
       "<matplotlib.figure.Figure at 0x7f77dd92d908>"
      ]
     },
     "metadata": {},
     "output_type": "display_data"
    }
   ],
   "source": [
    "plt.figure()\n",
    "#cs = plt.contour(xx,yy,z_svc,levels=[0],colors='b',linestyles='-',linewidths=2) # explicitly plot decision boundary\n",
    "# plt.clabel(cs, fmt = '%2.1d', colors = 'b', fontsize=14) # label decision boundary contour line\n",
    "csf = plt.contourf(xx,yy,z_svc,cmap=yellow_black,alpha=0.5) # classified feature space\n",
    "#plt.colorbar(csf)\n",
    "plt.scatter(X[:,0][y==1],X[:,1][y==1],marker='+',edgecolors='k',facecolor='k')\n",
    "plt.scatter(X[:,0][y==0],X[:,1][y==0],marker='o',edgecolors='k',facecolor='yellow')\n",
    "plt.xlim(0,4.5)\n",
    "plt.ylim(1.5,5)\n",
    "plt.xlabel(r'$x_1$',fontsize=14)\n",
    "plt.ylabel(r'$x_2$',fontsize=14)\n",
    "plt.title(r'Linear SVM with $C=1$',fontsize=14)\n",
    "plt.show()"
   ]
  },
  {
   "cell_type": "markdown",
   "metadata": {},
   "source": [
    "- As we can see, this corresponds to somewhat of an \"underfit\" i.e the + point around (0.1,0.4) is not classified correctly. This is expected since $C$ is small\n",
    "- Now let's try $C=100$:"
   ]
  },
  {
   "cell_type": "code",
   "execution_count": 9,
   "metadata": {
    "collapsed": false
   },
   "outputs": [
    {
     "data": {
      "text/plain": [
       "SVC(C=100.0, cache_size=200, class_weight=None, coef0=0.0,\n",
       "  decision_function_shape=None, degree=3, gamma='auto', kernel='linear',\n",
       "  max_iter=-1, probability=False, random_state=None, shrinking=True,\n",
       "  tol=0.001, verbose=False)"
      ]
     },
     "execution_count": 9,
     "metadata": {},
     "output_type": "execute_result"
    }
   ],
   "source": [
    "svc = svm.SVC(C=100.0,kernel='linear') \n",
    "svc.fit(X,y)"
   ]
  },
  {
   "cell_type": "code",
   "execution_count": 10,
   "metadata": {
    "collapsed": true
   },
   "outputs": [],
   "source": [
    "# Plot the decision boundary. For that, we will assign a color to each point in the mesh\n",
    "z_svc = svc.predict(np.c_[xx.ravel(), yy.ravel()])\n",
    "# Put the result into a color plot\n",
    "z_svc = z_svc.reshape(xx.shape)"
   ]
  },
  {
   "cell_type": "code",
   "execution_count": 11,
   "metadata": {
    "collapsed": false
   },
   "outputs": [
    {
     "data": {
      "image/png": "[encoded data removed]",
      "text/plain": [
       "<matplotlib.figure.Figure at 0x7f77dd5ad940>"
      ]
     },
     "metadata": {},
     "output_type": "display_data"
    }
   ],
   "source": [
    "plt.figure()\n",
    "#cs = plt.contour(xx,yy,z_svc,levels=[0],colors='b',linestyles='-',linewidths=2) # explicitly plot decision boundary\n",
    "# plt.clabel(cs, fmt = '%2.1d', colors = 'b', fontsize=14) # label decision boundary contour line\n",
    "csf = plt.contourf(xx,yy,z_svc,cmap=yellow_black,alpha=0.5) # classified feature space\n",
    "#plt.colorbar(csf)\n",
    "plt.scatter(X[:,0][y==1],X[:,1][y==1],marker='+',edgecolors='k',facecolor='k')\n",
    "plt.scatter(X[:,0][y==0],X[:,1][y==0],marker='o',edgecolors='k',facecolor='yellow')\n",
    "plt.xlim(0,4.5)\n",
    "plt.ylim(1.5,5)\n",
    "plt.xlabel(r'$x_1$',fontsize=14)\n",
    "plt.ylabel(r'$x_2$',fontsize=14)\n",
    "plt.title(r'Linear SVM with $C=100$',fontsize=14)\n",
    "plt.show()"
   ]
  },
  {
   "cell_type": "markdown",
   "metadata": {},
   "source": [
    "- Now the SVM classifies every single example correctly but the decision boundary that does not appear to be a natural fit for the data. A more \"overfit\" classification is expected since $C$ is larger"
   ]
  },
  {
   "cell_type": "markdown",
   "metadata": {},
   "source": [
    "## 1.2 SVM with Gaussian Kernels\n",
    "- Use SVMs with Gaussian kernels to do non-linear classification on datasets that are not linearly separable\n",
    "- We'll train using sklearn.svm.SVC's Gaussian kernel later on but we'll build the Gaussian kernel function anyways and test the parameters they give in ex6.m\n",
    "- Recall that the Gaussian kernel function is degined as:\n",
    "\n",
    "$$\n",
    "K_{\\text{gaussian}}(x^{(i)},x^{(j)})=\\exp\\left(-\\frac{\\lVert x^{(i)}-x^{(j)}\\rVert^2}{2\\sigma^2}\\right) = \\exp\\left(-\\frac{\\sum_{k=1}^n(x^{(i)}-x^{(j)})^2}{2\\sigma^2}\\right)\n",
    "$$"
   ]
  },
  {
   "cell_type": "code",
   "execution_count": 12,
   "metadata": {
    "collapsed": true
   },
   "outputs": [],
   "source": [
    "def similarity(x1,x2,sigma):\n",
    "    '''\n",
    "    Returns a radial basis function kernel between samples x1 and x2\n",
    "    \n",
    "    Parameters\n",
    "    ------------\n",
    "    x1 (1D arr): first sample n-dimensional vector\n",
    "    x2 (1D arr): second sample n-dimensional vector\n",
    "    \n",
    "    Returns\n",
    "    ------------\n",
    "    sim (float): similarity function value at vectors x1 and x2\n",
    "    '''\n",
    "    \n",
    "    sim = np.exp(-LA.norm(x1-x2)**2/(2*sigma**2))\n",
    "    return sim"
   ]
  },
  {
   "cell_type": "markdown",
   "metadata": {},
   "source": [
    "- Test it:"
   ]
  },
  {
   "cell_type": "code",
   "execution_count": 13,
   "metadata": {
    "collapsed": false
   },
   "outputs": [
    {
     "data": {
      "text/plain": [
       "0.32465246735834974"
      ]
     },
     "execution_count": 13,
     "metadata": {},
     "output_type": "execute_result"
    }
   ],
   "source": [
    "x1 = np.array([1,2,1])\n",
    "x2 = np.array([0,4,-1])\n",
    "sigma = 2\n",
    "similarity(x1,x2,sigma) # should be = 0.324652"
   ]
  },
  {
   "cell_type": "markdown",
   "metadata": {},
   "source": [
    "- The following dataset is not linearly separable. Let's load it and plot it:"
   ]
  },
  {
   "cell_type": "code",
   "execution_count": 14,
   "metadata": {
    "collapsed": false
   },
   "outputs": [],
   "source": [
    "data2 = loadmat('ex6data2.mat')\n",
    "X = data2['X'] # no need to add the bias terms, the svm object does it internally\n",
    "y = data2['y'].flatten() # output labels"
   ]
  },
  {
   "cell_type": "code",
   "execution_count": 15,
   "metadata": {
    "collapsed": false
   },
   "outputs": [
    {
     "data": {
      "image/png": "[encoded data removed]",
      "text/plain": [
       "<matplotlib.figure.Figure at 0x7f77e0c86f60>"
      ]
     },
     "metadata": {},
     "output_type": "display_data"
    }
   ],
   "source": [
    "plt.figure()\n",
    "plt.grid(True)\n",
    "plt.scatter(X[:,0][y==1],X[:,1][y==1],marker='+',edgecolors='k',facecolor='k')\n",
    "plt.scatter(X[:,0][y==0],X[:,1][y==0],marker='o',edgecolors='k',facecolor='yellow')\n",
    "plt.xlim(0,1)\n",
    "plt.ylim(0.4,1)\n",
    "plt.xlabel(r'$x_1$',fontsize=14)\n",
    "plt.ylabel(r'$x_2$',fontsize=14)\n",
    "plt.show()"
   ]
  },
  {
   "cell_type": "markdown",
   "metadata": {},
   "source": [
    "- Now we train an Gaussian-kernel SVM with $C=1$ and $\\sigma=0.1$\n",
    "- sklearn.svm.SVC's kernel `rbf` is the Gaussian kernel but with a slightly different definition, that is $\\exp(-\\gamma\\lVert x-x'\\rVert^2)$. Thus we relate $\\sigma$ to $\\gamma$ as:\n",
    "\n",
    "$$\n",
    "\\gamma = \\frac{1}{2\\sigma^2}\n",
    "$$"
   ]
  },
  {
   "cell_type": "code",
   "execution_count": 16,
   "metadata": {
    "collapsed": false
   },
   "outputs": [
    {
     "data": {
      "text/plain": [
       "SVC(C=100.0, cache_size=200, class_weight=None, coef0=0.0,\n",
       "  decision_function_shape=None, degree=3, gamma=49.99999999999999,\n",
       "  kernel='rbf', max_iter=-1, probability=False, random_state=None,\n",
       "  shrinking=True, tol=0.001, verbose=False)"
      ]
     },
     "execution_count": 16,
     "metadata": {},
     "output_type": "execute_result"
    }
   ],
   "source": [
    "sigma = 0.1\n",
    "gamma = 1/(2*sigma**2)\n",
    "svc = svm.SVC(C=100.0,kernel='rbf',gamma=gamma) \n",
    "svc.fit(X,y)"
   ]
  },
  {
   "cell_type": "code",
   "execution_count": 17,
   "metadata": {
    "collapsed": true
   },
   "outputs": [],
   "source": [
    "# Create a mesh to plot in\n",
    "h = .02  # Step size in the mesh\n",
    "x_min, x_max = 0, 1.1\n",
    "y_min, y_max = 0.4, 1.1\n",
    "xx, yy = np.meshgrid(np.arange(x_min, x_max, h),\n",
    "                     np.arange(y_min, y_max, h))\n",
    "# Plot the decision boundary. For that, we will assign a color to each point in the mesh\n",
    "z_svc = svc.predict(np.c_[xx.ravel(), yy.ravel()])\n",
    "# Put the result into a color plot\n",
    "z_svc = z_svc.reshape(xx.shape)"
   ]
  },
  {
   "cell_type": "code",
   "execution_count": 18,
   "metadata": {
    "collapsed": false
   },
   "outputs": [
    {
     "data": {
      "image/png": "[encoded data removed]",
      "text/plain": [
       "<matplotlib.figure.Figure at 0x7f77dd61cb70>"
      ]
     },
     "metadata": {},
     "output_type": "display_data"
    }
   ],
   "source": [
    "plt.figure()\n",
    "#cs = plt.contour(xx,yy,z_svc,levels=[0],colors='b',linestyles='-',linewidths=2) # explicitly plot decision boundary\n",
    "# plt.clabel(cs, fmt = '%2.1d', colors = 'b', fontsize=14) # label decision boundary contour line\n",
    "csf = plt.contourf(xx,yy,z_svc,cmap=yellow_black,alpha=0.5) # classified feature space\n",
    "#plt.colorbar(csf)\n",
    "plt.scatter(X[:,0][y==1],X[:,1][y==1],marker='+',edgecolors='k',facecolor='k')\n",
    "plt.scatter(X[:,0][y==0],X[:,1][y==0],marker='o',edgecolors='k',facecolor='yellow')\n",
    "plt.xlim(0,1)\n",
    "plt.ylim(0.4,1)\n",
    "plt.xlabel(r'$x_1$',fontsize=14)\n",
    "plt.ylabel(r'$x_2$',fontsize=14)\n",
    "plt.title(r'Gaussian-kernel SVM with $C=100$ and $\\sigma=0.1$',fontsize=14)\n",
    "plt.show()"
   ]
  },
  {
   "cell_type": "markdown",
   "metadata": {},
   "source": [
    "- This decision boundary is able to separate most of the positive and negative examples correctly and follows the contours of the dataset well\n",
    "- Now let's look at the next non-linearly separable set:"
   ]
  },
  {
   "cell_type": "code",
   "execution_count": 19,
   "metadata": {
    "collapsed": false
   },
   "outputs": [],
   "source": [
    "data3 = loadmat('ex6data3.mat')\n",
    "X = data3['X'] # no need to add the bias terms, the svm object does it internally\n",
    "y = data3['y'].flatten() # output labels\n",
    "Xval = data3['Xval'] # validation set\n",
    "yval = data3['yval'].flatten()"
   ]
  },
  {
   "cell_type": "code",
   "execution_count": 20,
   "metadata": {
    "collapsed": false
   },
   "outputs": [
    {
     "data": {
      "image/png": "[encoded data removed]",
      "text/plain": [
       "<matplotlib.figure.Figure at 0x7f77dd413e48>"
      ]
     },
     "metadata": {},
     "output_type": "display_data"
    }
   ],
   "source": [
    "plt.figure()\n",
    "plt.grid(True)\n",
    "plt.scatter(X[:,0][y==1],X[:,1][y==1],marker='+',edgecolors='k',facecolor='k')\n",
    "plt.scatter(X[:,0][y==0],X[:,1][y==0],marker='o',edgecolors='k',facecolor='yellow')\n",
    "plt.xlim(-0.6,0.3)\n",
    "plt.ylim(-0.8,0.6)\n",
    "plt.xlabel(r'$x_1$',fontsize=14)\n",
    "plt.ylabel(r'$x_2$',fontsize=14)\n",
    "plt.show()"
   ]
  },
  {
   "cell_type": "markdown",
   "metadata": {},
   "source": [
    "- Now we will use the cross validation set `Xval` and `yval` to determine the best $C$ and $\\sigma$ parameters to use from values (0.01,0.03,0.1,0.3,1,3,10,30) for each respectively. This means we need to test $8^2=64$ total models and pick the one with the best score (accuracy)\n",
    "- The easiest way to do is to perfrom a grid search over parameters using sklearn.model_selection.GridSearchCV but there is no way to explicitly pass in a validation set apart from the training set. GridSearchCV does a K-cross validation internally once given training `X` and `y`. Thus we do it manually (which is not that difficult after all)"
   ]
  },
  {
   "cell_type": "code",
   "execution_count": 21,
   "metadata": {
    "collapsed": true
   },
   "outputs": [],
   "source": [
    "c_vals = np.array([0.01,0.03,0.1,0.3,1,3,10,30])\n",
    "sigma_vals = c_vals"
   ]
  },
  {
   "cell_type": "code",
   "execution_count": 22,
   "metadata": {
    "collapsed": true
   },
   "outputs": [],
   "source": [
    "best_score = 0 # initialize to zero\n",
    "\n",
    "# Loop through params and look for best score\n",
    "for ii_c in c_vals:\n",
    "    for ii_sigma in sigma_vals:\n",
    "            ii_gamma = 1/(2*ii_sigma**2)\n",
    "            ii_svc = svm.SVC(C=ii_c,kernel='rbf',gamma=ii_gamma) # initialize SVM with params\n",
    "            ii_svc.fit(X,y) # fit model to training set\n",
    "            ii_score = ii_svc.score(Xval,yval) # test on cv set and get score (accuracy)\n",
    "            if ii_score > best_score:\n",
    "                best_score = ii_score\n",
    "                optimal_C = ii_c\n",
    "                optimal_sigma = ii_sigma\n",
    "                optimal_gamma = ii_gamma"
   ]
  },
  {
   "cell_type": "code",
   "execution_count": 23,
   "metadata": {
    "collapsed": false
   },
   "outputs": [
    {
     "name": "stdout",
     "output_type": "stream",
     "text": [
      "Best parameters set found on cv set:\n",
      "{'C': 1.0, 'sigma': 0.1}\n",
      "\n",
      "Best score with this set: 0.965\n"
     ]
    }
   ],
   "source": [
    "print(\"Best parameters set found on cv set:\\n{{'C': {}, 'sigma': {}}}\\n\".format(optimal_C,optimal_sigma))\n",
    "print(\"Best score with this set: {}\".format(best_score))"
   ]
  },
  {
   "cell_type": "markdown",
   "metadata": {},
   "source": [
    "- Now let's train to this optimal set and plot the classified feature space:"
   ]
  },
  {
   "cell_type": "code",
   "execution_count": 24,
   "metadata": {
    "collapsed": false
   },
   "outputs": [
    {
     "data": {
      "text/plain": [
       "SVC(C=1.0, cache_size=200, class_weight=None, coef0=0.0,\n",
       "  decision_function_shape=None, degree=3, gamma=49.999999999999993,\n",
       "  kernel='rbf', max_iter=-1, probability=False, random_state=None,\n",
       "  shrinking=True, tol=0.001, verbose=False)"
      ]
     },
     "execution_count": 24,
     "metadata": {},
     "output_type": "execute_result"
    }
   ],
   "source": [
    "svc = svm.SVC(C=optimal_C,kernel='rbf',gamma=optimal_gamma)\n",
    "svc.fit(X,y)"
   ]
  },
  {
   "cell_type": "code",
   "execution_count": 25,
   "metadata": {
    "collapsed": true
   },
   "outputs": [],
   "source": [
    "# Create a mesh to plot in\n",
    "h = .02  # Step size in the mesh\n",
    "x_min, x_max = -0.6, 0.4\n",
    "y_min, y_max = -0.8, 0.7\n",
    "xx, yy = np.meshgrid(np.arange(x_min, x_max, h),\n",
    "                     np.arange(y_min, y_max, h))\n",
    "# Plot the decision boundary. For that, we will assign a color to each point in the mesh\n",
    "z_svc = svc.predict(np.c_[xx.ravel(), yy.ravel()])\n",
    "# Put the result into a color plot\n",
    "z_svc = z_svc.reshape(xx.shape)"
   ]
  },
  {
   "cell_type": "code",
   "execution_count": 26,
   "metadata": {
    "collapsed": false
   },
   "outputs": [
    {
     "data": {
      "image/png": "[encoded data removed]",
      "text/plain": [
       "<matplotlib.figure.Figure at 0x7f77dd46dd30>"
      ]
     },
     "metadata": {},
     "output_type": "display_data"
    }
   ],
   "source": [
    "plt.figure()\n",
    "#cs = plt.contour(xx,yy,z_svc,levels=[0],colors='b',linestyles='-',linewidths=2) # explicitly plot decision boundary\n",
    "# plt.clabel(cs, fmt = '%2.1d', colors = 'b', fontsize=14) # label decision boundary contour line\n",
    "csf = plt.contourf(xx,yy,z_svc,cmap=yellow_black,alpha=0.5) # classified feature space\n",
    "#plt.colorbar(csf)\n",
    "plt.scatter(X[:,0][y==1],X[:,1][y==1],marker='+',edgecolors='k',facecolor='k')\n",
    "plt.scatter(X[:,0][y==0],X[:,1][y==0],marker='o',edgecolors='k',facecolor='yellow')\n",
    "plt.xlim(-0.6,0.3)\n",
    "plt.ylim(-0.8,0.6)\n",
    "plt.xlabel(r'$x_1$',fontsize=14)\n",
    "plt.ylabel(r'$x_2$',fontsize=14)\n",
    "plt.title(r'Gaussian-kernel SVM with $C={}$ and $\\sigma={}$'.format(optimal_C,optimal_sigma),fontsize=14)\n",
    "plt.show()"
   ]
  },
  {
   "cell_type": "markdown",
   "metadata": {},
   "source": [
    "# 2. Spam Classification\n",
    "- Use SVMs to build our own spam filter. We will train a classifier to classify wether a given email $x\\in\\mathbb{R}^n$ is spam ($y=1$) or non-spam ($y=-1$)\n",
    "- We need to first convert each email (body only, no header) into a feature vector $x$"
   ]
  },
  {
   "cell_type": "markdown",
   "metadata": {},
   "source": [
    "## 2.1 Preprocessing Emails\n",
    "- Normalize different parts present in an email which makes it easier for classification\n",
    "- For example, each URL in the email will be replaced with the unique strin \"httpaddr\" to indicate a URL is present. This has the effect of letting the spam classifier make a classification decision based on whether any URL was present rather than a specific one; this generalizes the classification and will help performance\n",
    "- The following pre-processing and normalization needs to be done:\n",
    "    1. Lower-casing (the entire email)\n",
    "        - e.g IndIcaTE and Indicate treated the same\n",
    "    2. Stripping HTML\n",
    "        - All html tags are removed from emails so only the content remains\n",
    "    3. Normalizing URLs\n",
    "        - All urls are replaced with the text \"httaddr\"\n",
    "    4. Normalizing Email Addreses\n",
    "        - All email addresses are placed with the text \"emailaddr\"\n",
    "    5. Normalizing Numbers\n",
    "        - All numbers are replaced with the test \"number\"\n",
    "    6. Normalizing Dollar Signs\n",
    "        - All dollar signs ($) are replaced with the text \"dollar\"\n",
    "    7. Word Stemming\n",
    "        - Words reduced to their stem form, e.g \"discount\", \"discounts\", \"discounted\" and \"discounting\" are all replaced with \"discount\". The stemmer sometimes strips off additional charactes from the end so \"include\", \"includes\", \"included\" and \"including\" are all replaced with \"includ\"\n",
    "    8. Removal of non-words\n",
    "        - Non-words and punctuation have been removed. All white spaces (tabs, newlines, spaces) have all been trimmed to a single space character"
   ]
  },
  {
   "cell_type": "code",
   "execution_count": 47,
   "metadata": {
    "collapsed": false
   },
   "outputs": [
    {
     "data": {
      "text/plain": [
       "\"> Anyone knows how much it costs to host a web portal ?\\n>\\nWell, it depends on how many visitors you're expecting.\\nThis can be anywhere from less than 10 bucks a month to a couple of $100. \\nYou should checkout http://www.rackspace.com/ or perhaps Amazon EC2 \\nif youre running something big..\\n\\nTo unsubscribe yourself from this mailing list, send an email to:\\ngroupname-unsubscribe@egroups.com\\n\\n\""
      ]
     },
     "execution_count": 47,
     "metadata": {},
     "output_type": "execute_result"
    }
   ],
   "source": [
    "# Load Email\n",
    "email = open('emailSample1.txt', 'r' ).read()\n",
    "email # it's a str"
   ]
  },
  {
   "cell_type": "markdown",
   "metadata": {},
   "source": [
    "- The following vocabulary list was selected by choosing all words which occur at least 100 times in the spam corpus, resulting in a list of 1899 words:"
   ]
  },
  {
   "cell_type": "code",
   "execution_count": 90,
   "metadata": {
    "collapsed": false
   },
   "outputs": [],
   "source": [
    "# Load vocab list\n",
    "_,vocab_list = np.loadtxt('vocab.txt',dtype=bytes,unpack=True) # first row (tranposed column) are vocab list numbers\n",
    "                                                               # np.loadtxt operates in byte mode but Python 3 uses unicode and marks bytestrings with b \n",
    "vocab_list = vocab_list.astype(str) # from byte to string"
   ]
  },
  {
   "cell_type": "markdown",
   "metadata": {},
   "source": [
    "- To normalize the email we can make use of the `re` python module which \"provides Perl-style regular expression patterns...you specify the rules for the set of possible strings that you want to match; this set might contain English sentences, or e-mail addresses, or TeX commands, or anything you like. You can then ask questions such as “Does this string match the pattern?”, or “Is there a match for the pattern anywhere in this string?”. You can also use REs to modify a string or to split it apart in various ways.\" see https://docs.python.org/2/howto/regex.html\n",
    "- To stem the words we use the Porter Stemmer implemented in the Natural Language Toolkit (`nltk` module); see https://marcobonzanini.com/2015/01/26/stemming-lemmatisation-and-pos-tagging-with-python-and-nltk/"
   ]
  },
  {
   "cell_type": "code",
   "execution_count": 213,
   "metadata": {
    "collapsed": false
   },
   "outputs": [],
   "source": [
    "def processEmail(email,vocab_list):\n",
    "    '''\n",
    "    Processes an email's body through the steps listed above (1-8) and\n",
    "    computes which (if any) words are present in a pre-determined vocab\n",
    "    list \n",
    "    \n",
    "    Parameters\n",
    "    ------------\n",
    "    email (str): body of the email\n",
    "    vocab_list (1D arr): array of vocabulary words to look for in email\n",
    "    \n",
    "    Returns\n",
    "    ------------\n",
    "    email_word_indices (1D arr): indices of email's words in vocab list\n",
    "    '''\n",
    "    \n",
    "    ## Pre-processing ##\n",
    "    email = email.lower() # lower case the entire email\n",
    "    email = re.sub('<[^<]+?>','',email) # remove html tags\n",
    "    email = re.sub('(http|https)://[^\\s]*','httpaddr',email) # normalize URLs\n",
    "    email = re.sub('[^\\s]+@[^\\s]+','emailaddr',email) # normalize email addresses \n",
    "    email = re.sub('[0-9]+','number',email) # normalize numbers\n",
    "    email = re.sub('[$]+', 'dollar',email) # normalize $ signs\n",
    "    email = re.sub('[^a-zA-Z0-9]',' ',email) # removal of non-words\n",
    "    \n",
    "    email_words = email.split(' ') # put words in a list, this will contain empty strings ''\n",
    "    stemmer = PorterStemmer()\n",
    "    email_words = [str(stemmer.stem(ii_word)) for ii_word in email_words if len(ii_word)!=0] # Remove empty strings ''\n",
    "                                                                                             # Stem words   \n",
    "   \n",
    "    ## Vocabulary List Indices ##   \n",
    "    email_word_indices = []\n",
    "    for ii_word in email_words:\n",
    "        if ii_word in vocab_list:\n",
    "            index = np.where(vocab_list==ii_word)[0][0]+1 # index of word in vocab_list\n",
    "            email_word_indices.append(index)\n",
    "    email_word_indices = np.asarray(email_word_indices)\n",
    "    \n",
    "    return email_word_indices"
   ]
  },
  {
   "cell_type": "code",
   "execution_count": 118,
   "metadata": {
    "collapsed": false
   },
   "outputs": [],
   "source": [
    "word_indices = processEmail(email,vocab_list)"
   ]
  },
  {
   "cell_type": "markdown",
   "metadata": {},
   "source": [
    "## 2.2 Extracting Features from Emails\n",
    "- Now implement feature extraction that converts each email into a vector in $\\mathbb{R}^n$ where $n$ = # of words in vocabulary list. Specifically, the feature $x_i\\in\\{0,1\\}$ for an email corresponds to wether the $i$-th word in the dictionary accours in the email, i.e $x_i=1$ if the $i$-th word is in the email and $x_i=0$ otherwise "
   ]
  },
  {
   "cell_type": "code",
   "execution_count": 124,
   "metadata": {
    "collapsed": false
   },
   "outputs": [],
   "source": [
    "def emailFeatures(word_indices,vocab_list):\n",
    "    '''\n",
    "    Creates a feature vector out of the word indices of an email\n",
    "    \n",
    "    Parameters\n",
    "    ------------\n",
    "    word_indices (1D arr): indices of email's words in vocab list\n",
    "    vocab_list (1D arr): array of vocabulary words to look for in email\n",
    "    \n",
    "    Returns\n",
    "    ------------\n",
    "    feature_vec (1D arr): 1s in positions where vocab word is in email, of length of vocab list\n",
    "    '''\n",
    "    feature_vec = np.zeros(np.shape(vocab_list)[0]) # initialize to all zeros\n",
    "    feature_vec[word_indices-1] = 1 # shift indices down by one because we labeled them starting at 1\n",
    "                                    # set entry at that index to 1\n",
    "    return feature_vec"
   ]
  },
  {
   "cell_type": "code",
   "execution_count": 129,
   "metadata": {
    "collapsed": false
   },
   "outputs": [
    {
     "name": "stdout",
     "output_type": "stream",
     "text": [
      "feature vector has length 1899 and 45 non-zero entries\n"
     ]
    }
   ],
   "source": [
    "features = emailFeatures(word_indices,vocab_list)\n",
    "print('feature vector has length {} and {} non-zero entries'.format(len(features),sum(features==1)))"
   ]
  },
  {
   "cell_type": "markdown",
   "metadata": {},
   "source": [
    "## 2.3 Training SVM for Spam Classification\n",
    "- Use a preprocessed training dataset to train a SVM classifier ($y=1$ as spam and $y=0$ as non-spam)\n",
    "- `spamTrain.mat` contains 4000 training examples of spam and non-spam email while `spamTest.mat` contains 1000 test examples\n",
    "- Each email has already been processed using the processEmail and emailFeatures functions and converted into a vector $x^{(i)}\\in\\mathbb{R}^{1899}$"
   ]
  },
  {
   "cell_type": "code",
   "execution_count": 192,
   "metadata": {
    "collapsed": false
   },
   "outputs": [],
   "source": [
    "# Load training set\n",
    "data4 = loadmat('spamTrain.mat')\n",
    "X,y = data4['X'],data4['y'].flatten()\n",
    "\n",
    "# Load test set\n",
    "data5 = loadmat('spamTest.mat')\n",
    "Xtest,ytest = data5['Xtest'],data5['ytest'].flatten()"
   ]
  },
  {
   "cell_type": "markdown",
   "metadata": {},
   "source": [
    "- Train linear SVM with $C=0.1$. We expect a training accuracy of about 99.8% and a test accuracy of about 98.5%"
   ]
  },
  {
   "cell_type": "code",
   "execution_count": 193,
   "metadata": {
    "collapsed": false
   },
   "outputs": [
    {
     "data": {
      "text/plain": [
       "SVC(C=0.1, cache_size=200, class_weight=None, coef0=0.0,\n",
       "  decision_function_shape=None, degree=3, gamma='auto', kernel='linear',\n",
       "  max_iter=-1, probability=False, random_state=None, shrinking=True,\n",
       "  tol=0.001, verbose=False)"
      ]
     },
     "execution_count": 193,
     "metadata": {},
     "output_type": "execute_result"
    }
   ],
   "source": [
    "svc = svm.SVC(C=0.1,kernel='linear')\n",
    "svc.fit(X,y)"
   ]
  },
  {
   "cell_type": "code",
   "execution_count": 194,
   "metadata": {
    "collapsed": false
   },
   "outputs": [
    {
     "data": {
      "text/plain": [
       "0.99824999999999997"
      ]
     },
     "execution_count": 194,
     "metadata": {},
     "output_type": "execute_result"
    }
   ],
   "source": [
    "svc.score(X,y)"
   ]
  },
  {
   "cell_type": "code",
   "execution_count": 195,
   "metadata": {
    "collapsed": false
   },
   "outputs": [
    {
     "data": {
      "text/plain": [
       "0.98899999999999999"
      ]
     },
     "execution_count": 195,
     "metadata": {},
     "output_type": "execute_result"
    }
   ],
   "source": [
    "svc.score(Xtest,ytest)"
   ]
  },
  {
   "cell_type": "markdown",
   "metadata": {},
   "source": [
    "## 2.4 Top Predictors for Spam\n",
    "- We inspect the parameters of the classifier to see which words it thinks are the most predictive of spam\n",
    "- SVC.coef_ gives us the weights assigned to the features (coefficients in the primal problem) for a linear SVM"
   ]
  },
  {
   "cell_type": "code",
   "execution_count": 174,
   "metadata": {
    "collapsed": false
   },
   "outputs": [
    {
     "name": "stdout",
     "output_type": "stream",
     "text": [
      "Top 15 predictors for spam email:\n",
      "['our' 'click' 'remov' 'guarante' 'visit' 'basenumb' 'dollar' 'will'\n",
      " 'price' 'pleas' 'most' 'nbsp' 'lo' 'ga' 'hour']\n",
      "\n",
      "Bottom 15 predictors for spam email:\n",
      "['spamassassin' 'the' 'url' 'wrote' 'date' 'list' 'rpm' 'numbertnumb'\n",
      " 'user' 'until' 'author' 'razor' 'yahoo' 'tom' 'httpaddr']\n"
     ]
    }
   ],
   "source": [
    "trained_feat_weights = svc.coef_[0]\n",
    "weight_indices = np.argsort(trained_feat_weights) # returns indices that sorts an array in increasing order\n",
    "top_15_spam_indices = weight_indices[-15:]\n",
    "bottom_15_spam_indices = weight_indices[:15]\n",
    "\n",
    "print('Top 15 predictors for spam email:\\n{}\\n'.format(vocab_list[top_15_spam_indices[::-1]]))\n",
    "print('Bottom 15 predictors for spam email:\\n{}'.format(vocab_list[bottom_15_spam_indices]))"
   ]
  },
  {
   "cell_type": "markdown",
   "metadata": {},
   "source": [
    "## 2.5 Optional Exercise: Try Your Own Emails\n",
    "- Try out other examples provided with the learned SVM and see if it gets them right\n",
    "- The examples are:\n",
    "    - Emails: `emailSample1.txt` and `emailSample2.txt`\n",
    "    - Spam: `spamSample1.txt` and `spamSample2.txt`"
   ]
  },
  {
   "cell_type": "code",
   "execution_count": 218,
   "metadata": {
    "collapsed": true
   },
   "outputs": [],
   "source": [
    "# Load samples\n",
    "email1 = open('emailSample1.txt','r').read()\n",
    "email2 = open('emailSample2.txt','r').read()\n",
    "spam1 = open('spamSample1.txt','r').read()\n",
    "spam2 = open('spamSample2.txt','r').read()\n",
    "\n",
    "# Pre-process samples\n",
    "email1_word_indices = processEmail(email1,vocab_list)\n",
    "email2_word_indices = processEmail(email2,vocab_list)\n",
    "spam1_word_indices = processEmail(spam1,vocab_list)\n",
    "spam2_word_indices = processEmail(spam2,vocab_list)\n",
    "\n",
    "# Get feature vectors\n",
    "email1_features = emailFeatures(email1_word_indices,vocab_list)\n",
    "email2_features = emailFeatures(email2_word_indices,vocab_list)\n",
    "spam1_features = emailFeatures(spam1_word_indices,vocab_list)\n",
    "spam2_features = emailFeatures(spam2_word_indices,vocab_list)"
   ]
  },
  {
   "cell_type": "markdown",
   "metadata": {},
   "source": [
    "- If we predict on a single sample we have to reshape `X`; see warning when you don't"
   ]
  },
  {
   "cell_type": "code",
   "execution_count": 224,
   "metadata": {
    "collapsed": false
   },
   "outputs": [
    {
     "data": {
      "text/plain": [
       "0"
      ]
     },
     "execution_count": 224,
     "metadata": {},
     "output_type": "execute_result"
    }
   ],
   "source": [
    "svc.predict(email1_features.reshape(1, -1))[0]"
   ]
  },
  {
   "cell_type": "code",
   "execution_count": 225,
   "metadata": {
    "collapsed": false
   },
   "outputs": [
    {
     "data": {
      "text/plain": [
       "0"
      ]
     },
     "execution_count": 225,
     "metadata": {},
     "output_type": "execute_result"
    }
   ],
   "source": [
    "svc.predict(email2_features.reshape(1, -1))[0]"
   ]
  },
  {
   "cell_type": "code",
   "execution_count": 226,
   "metadata": {
    "collapsed": false
   },
   "outputs": [
    {
     "data": {
      "text/plain": [
       "1"
      ]
     },
     "execution_count": 226,
     "metadata": {},
     "output_type": "execute_result"
    }
   ],
   "source": [
    "svc.predict(spam1_features.reshape(1, -1))[0]"
   ]
  },
  {
   "cell_type": "code",
   "execution_count": 223,
   "metadata": {
    "collapsed": false
   },
   "outputs": [
    {
     "data": {
      "text/plain": [
       "1"
      ]
     },
     "execution_count": 223,
     "metadata": {},
     "output_type": "execute_result"
    }
   ],
   "source": [
    "svc.predict(spam2_features.reshape(1, -1))[0]"
   ]
  },
  {
   "cell_type": "markdown",
   "metadata": {},
   "source": [
    "- All predicted correctly"
   ]
  },
  {
   "cell_type": "markdown",
   "metadata": {},
   "source": [
    "## 2.6 Optional Exercise: Build Your Own Dataset\n",
    "- maybe I'll come back to this part someday..."
   ]
  }
 ],
 "metadata": {
  "kernelspec": {
   "display_name": "Python [conda root]",
   "language": "python",
   "name": "conda-root-py"
  },
  "language_info": {
   "codemirror_mode": {
    "name": "ipython",
    "version": 3
   },
   "file_extension": ".py",
   "mimetype": "text/x-python",
   "name": "python",
   "nbconvert_exporter": "python",
   "pygments_lexer": "ipython3",
   "version": "3.5.2"
  }
 },
 "nbformat": 4,
 "nbformat_minor": 2
}
