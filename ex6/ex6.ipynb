{
 "cells": [
  {
   "cell_type": "markdown",
   "metadata": {},
   "source": [
    "<h1><center>Programming Exercise 6:<br>Support Vector Machines</center></h1>"
   ]
  },
  {
   "cell_type": "code",
   "execution_count": 4,
   "metadata": {
    "collapsed": false
   },
   "outputs": [],
   "source": [
    "from scipy.io import loadmat\n",
    "import numpy as np\n",
    "import matplotlib.pyplot as plt\n",
    "import matplotlib as mpl\n",
    "from sklearn import svm\n",
    "import L67Data\n",
    "\n",
    "mpl.rcParams['figure.figsize'] = (10,6)"
   ]
  },
  {
   "cell_type": "markdown",
   "metadata": {},
   "source": [
    "# 1. Support Vector Machines\n",
    "- Use SVMs with various example 2D dataset"
   ]
  },
  {
   "cell_type": "markdown",
   "metadata": {},
   "source": [
    "## 1.1 Examples Dataset 1\n",
    "- The data in `ex6data1.mat` can be separated by a linear boundary. The positions of the positive examples (+) and the negative examples (o) suggest a natural separation indicated by the gap. However, there is an outlier positive example on the far left at about (0.1,0.4). We will see how this outlier affects the SVM decision boundary"
   ]
  },
  {
   "cell_type": "code",
   "execution_count": 5,
   "metadata": {
    "collapsed": false
   },
   "outputs": [],
   "source": [
    "data1 = loadmat('ex6data1.mat')\n",
    "X = data1['X'] # no need to add the bias terms, the svm object does it internally\n",
    "y = data1['y'].flatten() # output labels"
   ]
  },
  {
   "cell_type": "code",
   "execution_count": 7,
   "metadata": {
    "collapsed": false
   },
   "outputs": [
    {
     "data": {
      "text/plain": [
       "<matplotlib.figure.Figure at 0x7f92cb66ba90>"
      ]
     },
     "metadata": {},
     "output_type": "display_data"
    },
    {
     "data": {
      "image/png": "[encoded data removed]",
      "text/plain": [
       "<matplotlib.figure.Figure at 0x7f92c8330da0>"
      ]
     },
     "metadata": {},
     "output_type": "display_data"
    }
   ],
   "source": [
    "plt.figure()\n",
    "plt.grid(True)\n",
    "plt.scatter(X[:,0][y==1],X[:,1][y==1],marker='+',edgecolors='k',facecolor='k')\n",
    "plt.scatter(X[:,0][y==0],X[:,1][y==0],marker='o',edgecolors='k',facecolor='yellow')\n",
    "plt.xlim(0,4.5)\n",
    "plt.ylim(1.5,5)\n",
    "plt.show()"
   ]
  },
  {
   "cell_type": "markdown",
   "metadata": {},
   "source": [
    "- Try different values of the $C$ parameter with SVMs\n",
    "- Informally $C$ is a positive value that controls the penalty for misclassified training examples. A large $C$ parameters tells the SVM to try to classify all examples correctly. $C$ plays a role similar to $1/\\lambda$, the reg. parameter for logistic regression\n",
    "- Train the SVM with both $C=1$ and $C=100$\n",
    "- We use an SVM from the sklearn library"
   ]
  },
  {
   "cell_type": "code",
   "execution_count": 8,
   "metadata": {
    "collapsed": true
   },
   "outputs": [],
   "source": [
    "svc = svm.SVC(C=1.0,kernel='linear') # initialize linear SVM instance"
   ]
  },
  {
   "cell_type": "code",
   "execution_count": 9,
   "metadata": {
    "collapsed": false
   },
   "outputs": [
    {
     "data": {
      "text/plain": [
       "SVC(C=1.0, cache_size=200, class_weight=None, coef0=0.0,\n",
       "  decision_function_shape=None, degree=3, gamma='auto', kernel='linear',\n",
       "  max_iter=-1, probability=False, random_state=None, shrinking=True,\n",
       "  tol=0.001, verbose=False)"
      ]
     },
     "execution_count": 9,
     "metadata": {},
     "output_type": "execute_result"
    }
   ],
   "source": [
    "svc.fit(X,y) # train classifier"
   ]
  },
  {
   "cell_type": "markdown",
   "metadata": {},
   "source": [
    "- Perform prediction over grid:"
   ]
  },
  {
   "cell_type": "code",
   "execution_count": 10,
   "metadata": {
    "collapsed": false
   },
   "outputs": [],
   "source": [
    "# Create a mesh to plot in\n",
    "h = .02  # Step size in the mesh\n",
    "x_min, x_max = 0, 4.5\n",
    "y_min, y_max = 1.5, 5\n",
    "xx, yy = np.meshgrid(np.arange(x_min, x_max, h),\n",
    "                     np.arange(y_min, y_max, h))\n",
    "# Plot the decision boundary. For that, we will assign a color to each point in the mesh\n",
    "z_svc = svc.predict(np.c_[xx.ravel(), yy.ravel()])\n",
    "# Put the result into a color plot\n",
    "z_svc = z_svc.reshape(xx.shape)"
   ]
  },
  {
   "cell_type": "markdown",
   "metadata": {},
   "source": [
    "- Plot over mesh but first make a custom colormap since we want to plot the two classes as either yellow ($y=0$) or black ($y=1$)"
   ]
  },
  {
   "cell_type": "code",
   "execution_count": 21,
   "metadata": {
    "collapsed": true
   },
   "outputs": [],
   "source": [
    "yellow_black = L67Data.make_colormap(['yellow','k'])"
   ]
  },
  {
   "cell_type": "code",
   "execution_count": 25,
   "metadata": {
    "collapsed": false
   },
   "outputs": [
    {
     "data": {
      "image/png": "[encoded data removed]",
      "text/plain": [
       "<matplotlib.figure.Figure at 0x7f92c7e8b7f0>"
      ]
     },
     "metadata": {},
     "output_type": "display_data"
    }
   ],
   "source": [
    "plt.figure()\n",
    "#cs = plt.contour(xx,yy,z_svc,levels=[0],colors='b',linestyles='-',linewidths=2) # explicitly plot decision boundary\n",
    "# plt.clabel(cs, fmt = '%2.1d', colors = 'b', fontsize=14) # label decision boundary contour line\n",
    "csf = plt.contourf(xx,yy,z_svc,cmap=yellow_black,alpha=0.5) # classified feature space\n",
    "#plt.colorbar(csf)\n",
    "plt.scatter(X[:,0][y==1],X[:,1][y==1],marker='+',edgecolors='k',facecolor='k')\n",
    "plt.scatter(X[:,0][y==0],X[:,1][y==0],marker='o',edgecolors='k',facecolor='yellow')\n",
    "plt.xlim(0,4.5)\n",
    "plt.ylim(1.5,5)\n",
    "plt.xlabel(r'$x_1$',fontsize=14)\n",
    "plt.ylabel(r'$x_2$',fontsize=14)\n",
    "plt.title(r'Linear SVM with $C=1$',fontsize=14)\n",
    "plt.show()"
   ]
  },
  {
   "cell_type": "markdown",
   "metadata": {},
   "source": [
    "- As we can see, this corresponds to somewhat of an \"underfit\" i.e the + point around (0.1,0.4) is not classified correctly. This is expected since $C$ is small\n",
    "- Now let's try $C=100$:"
   ]
  },
  {
   "cell_type": "code",
   "execution_count": 27,
   "metadata": {
    "collapsed": false
   },
   "outputs": [
    {
     "data": {
      "text/plain": [
       "SVC(C=100.0, cache_size=200, class_weight=None, coef0=0.0,\n",
       "  decision_function_shape=None, degree=3, gamma='auto', kernel='linear',\n",
       "  max_iter=-1, probability=False, random_state=None, shrinking=True,\n",
       "  tol=0.001, verbose=False)"
      ]
     },
     "execution_count": 27,
     "metadata": {},
     "output_type": "execute_result"
    }
   ],
   "source": [
    "svc = svm.SVC(C=100.0,kernel='linear') \n",
    "svc.fit(X,y)"
   ]
  },
  {
   "cell_type": "code",
   "execution_count": 28,
   "metadata": {
    "collapsed": true
   },
   "outputs": [],
   "source": [
    "# Plot the decision boundary. For that, we will assign a color to each point in the mesh\n",
    "z_svc = svc.predict(np.c_[xx.ravel(), yy.ravel()])\n",
    "# Put the result into a color plot\n",
    "z_svc = z_svc.reshape(xx.shape)"
   ]
  },
  {
   "cell_type": "code",
   "execution_count": 29,
   "metadata": {
    "collapsed": false
   },
   "outputs": [
    {
     "data": {
      "image/png": "[encoded data removed]",
      "text/plain": [
       "<matplotlib.figure.Figure at 0x7f92c7ea2a20>"
      ]
     },
     "metadata": {},
     "output_type": "display_data"
    }
   ],
   "source": [
    "plt.figure()\n",
    "#cs = plt.contour(xx,yy,z_svc,levels=[0],colors='b',linestyles='-',linewidths=2) # explicitly plot decision boundary\n",
    "# plt.clabel(cs, fmt = '%2.1d', colors = 'b', fontsize=14) # label decision boundary contour line\n",
    "csf = plt.contourf(xx,yy,z_svc,cmap=yellow_black,alpha=0.5) # classified feature space\n",
    "#plt.colorbar(csf)\n",
    "plt.scatter(X[:,0][y==1],X[:,1][y==1],marker='+',edgecolors='k',facecolor='k')\n",
    "plt.scatter(X[:,0][y==0],X[:,1][y==0],marker='o',edgecolors='k',facecolor='yellow')\n",
    "plt.xlim(0,4.5)\n",
    "plt.ylim(1.5,5)\n",
    "plt.xlabel(r'$x_1$',fontsize=14)\n",
    "plt.ylabel(r'$x_2$',fontsize=14)\n",
    "plt.title(r'Linear SVM with $C=100$',fontsize=14)\n",
    "plt.show()"
   ]
  },
  {
   "cell_type": "markdown",
   "metadata": {},
   "source": [
    "- Now the SVM classifies every single example correctly but the decision boundary that does not appear to be a natural fit for the data. A more \"overfit\" classification is expected since $C$ is larger"
   ]
  },
  {
   "cell_type": "markdown",
   "metadata": {},
   "source": [
    "## 1.2 SVM with Gaussian Kernels"
   ]
  },
  {
   "cell_type": "markdown",
   "metadata": {},
   "source": [
    "# 2. Spam Classification"
   ]
  },
  {
   "cell_type": "markdown",
   "metadata": {},
   "source": [
    "## 2.1 Preprocessing Emails"
   ]
  },
  {
   "cell_type": "markdown",
   "metadata": {},
   "source": [
    "## 2.2 Extracting Features from Emails"
   ]
  },
  {
   "cell_type": "markdown",
   "metadata": {},
   "source": [
    "## 2.3 Training SVM for Spam Classification"
   ]
  },
  {
   "cell_type": "markdown",
   "metadata": {},
   "source": [
    "## 2.4 Top Predictors for Spam"
   ]
  },
  {
   "cell_type": "markdown",
   "metadata": {},
   "source": [
    "## 2.5 Optional Exercise: Try Your Own Emails"
   ]
  },
  {
   "cell_type": "markdown",
   "metadata": {},
   "source": [
    "## 2.6 Optional Exercise: Build Your Own Dataset"
   ]
  }
 ],
 "metadata": {
  "kernelspec": {
   "display_name": "Python [conda root]",
   "language": "python",
   "name": "conda-root-py"
  },
  "language_info": {
   "codemirror_mode": {
    "name": "ipython",
    "version": 3
   },
   "file_extension": ".py",
   "mimetype": "text/x-python",
   "name": "python",
   "nbconvert_exporter": "python",
   "pygments_lexer": "ipython3",
   "version": "3.5.2"
  }
 },
 "nbformat": 4,
 "nbformat_minor": 2
}
