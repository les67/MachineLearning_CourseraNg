{
 "cells": [
  {
   "cell_type": "markdown",
   "metadata": {},
   "source": [
    "<h1><center>Programming Exercise 7:<br>K-means Clustering and Principal Component Analysis</center></h1>"
   ]
  },
  {
   "cell_type": "code",
   "execution_count": 1,
   "metadata": {
    "collapsed": true
   },
   "outputs": [],
   "source": [
    "from scipy.io import loadmat\n",
    "import numpy as np\n",
    "import matplotlib.pyplot as plt\n",
    "import matplotlib as mpl\n",
    "\n",
    "mpl.rcParams['figure.figsize'] = (10,6)"
   ]
  },
  {
   "cell_type": "markdown",
   "metadata": {},
   "source": [
    "# 1. K-means Clustering\n",
    "- Implement the K-means algorithm and use it for image compression. First start on an example 2D dataset to gain an intuition of how the algorithm works\n",
    "- Afterwards, use K-means for image compression by reducing the number of colors that occur in an image to only those that are the most common in that image"
   ]
  },
  {
   "cell_type": "markdown",
   "metadata": {},
   "source": [
    "## 1.1 Implementing K-means"
   ]
  },
  {
   "cell_type": "code",
   "execution_count": 3,
   "metadata": {
    "collapsed": false
   },
   "outputs": [],
   "source": [
    "data1 = loadmat('ex7data2.mat')\n",
    "X = data1['X'] # no need to add the bias terms, as convention for K-means\n",
    "               # there are 300 samples with 2 features each"
   ]
  },
  {
   "cell_type": "markdown",
   "metadata": {},
   "source": [
    "- Initially we choose 3 centroids and initialize them as given in ex7.m:"
   ]
  },
  {
   "cell_type": "code",
   "execution_count": 50,
   "metadata": {
    "collapsed": true
   },
   "outputs": [],
   "source": [
    "K = 3 # 3 centroids\n",
    "initial_centroids = np.array([[3,3],[6,2],[8,5]]) # centroid coordinates"
   ]
  },
  {
   "cell_type": "code",
   "execution_count": 108,
   "metadata": {
    "collapsed": true
   },
   "outputs": [],
   "source": [
    "def findClosestCentroids(X,centroids):\n",
    "    '''\n",
    "    Computes L2 squared norm of every sample in design matrix X to each centroid in centroids\n",
    "    Finds the minimum distance for every samples and returns the label to the closest centroid\n",
    "    \n",
    "    Parameters\n",
    "    ------------\n",
    "    X: m by n design matrix\n",
    "    centroids: K by n centroid matrix with n-coordinates for each of the K centroids\n",
    "    \n",
    "    Returns\n",
    "    ------------\n",
    "    idx: 1D m-dimensional array with labels of closest centroid for all samples\n",
    "    '''\n",
    "    \n",
    "    K = centroids.shape[0] # number of centroids\n",
    "    m,num_feats = X.shape # number of samples and features\n",
    "    norm_array = np.empty((m,K)) # initialize norm array, K L2 squared norm per sample\n",
    "    \n",
    "    for ii_idx,ii_centroid in enumerate(centroids): # iterate through centroids\n",
    "        ii_diff_array = X-ii_centroid # compute vector distance to centroid for all samples\n",
    "        norm_array[:,ii_idx] = np.linalg.norm(ii_diff_array,axis=1)**2 # compute L2 squared norms for all samples\n",
    "    \n",
    "    idx = np.argmin(norm_array,axis=1) # indices of min distance along 3rd axis, i.e all centroids\n",
    "    \n",
    "    return idx"
   ]
  },
  {
   "cell_type": "markdown",
   "metadata": {},
   "source": [
    "- Find closest centroids to the first 3 samples:"
   ]
  },
  {
   "cell_type": "code",
   "execution_count": 113,
   "metadata": {
    "collapsed": false
   },
   "outputs": [
    {
     "name": "stdout",
     "output_type": "stream",
     "text": [
      "Closest centroids for the first 3 examples:\n",
      "[1 3 2]\n"
     ]
    }
   ],
   "source": [
    "idx = findClosestCentroids(X,initial_centroids)\n",
    "\n",
    "print('Closest centroids for the first 3 examples:')\n",
    "print(idx[:3]+1) # + 1 because we index starting with 0 and the homework is labeing centroids starting with 1"
   ]
  },
  {
   "cell_type": "markdown",
   "metadata": {},
   "source": [
    "## 1.2 K-means on Example Dataset"
   ]
  },
  {
   "cell_type": "markdown",
   "metadata": {},
   "source": [
    "## 1.3 Random Initialization"
   ]
  },
  {
   "cell_type": "markdown",
   "metadata": {},
   "source": [
    "## 1.4 Image Compression with K-means"
   ]
  },
  {
   "cell_type": "markdown",
   "metadata": {},
   "source": [
    "## 1.5 Optional Exercise: Use Your Image"
   ]
  },
  {
   "cell_type": "markdown",
   "metadata": {},
   "source": [
    "# 2. Principal Component Analysis"
   ]
  },
  {
   "cell_type": "markdown",
   "metadata": {},
   "source": [
    "## 2.1 Example Dataset"
   ]
  },
  {
   "cell_type": "markdown",
   "metadata": {},
   "source": [
    "## 2.2 Implementing PCA"
   ]
  },
  {
   "cell_type": "markdown",
   "metadata": {},
   "source": [
    "## 2.3 Dimensionality Reduction with PCA"
   ]
  },
  {
   "cell_type": "markdown",
   "metadata": {},
   "source": [
    "## 2.4 Face Image Dataset"
   ]
  },
  {
   "cell_type": "markdown",
   "metadata": {},
   "source": [
    "## 2.5 Optional Exercise: PCA for Visualization "
   ]
  }
 ],
 "metadata": {
  "kernelspec": {
   "display_name": "Python [conda root]",
   "language": "python",
   "name": "conda-root-py"
  },
  "language_info": {
   "codemirror_mode": {
    "name": "ipython",
    "version": 3
   },
   "file_extension": ".py",
   "mimetype": "text/x-python",
   "name": "python",
   "nbconvert_exporter": "python",
   "pygments_lexer": "ipython3",
   "version": "3.5.2"
  }
 },
 "nbformat": 4,
 "nbformat_minor": 2
}
