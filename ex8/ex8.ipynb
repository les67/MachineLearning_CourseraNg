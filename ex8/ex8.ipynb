{
 "cells": [
  {
   "cell_type": "markdown",
   "metadata": {},
   "source": [
    "<h1><center>Programming Exercise 8:<br>Anomaly Detection and Recommender Systems</center></h1>"
   ]
  },
  {
   "cell_type": "code",
   "execution_count": 38,
   "metadata": {
    "collapsed": true
   },
   "outputs": [],
   "source": [
    "from scipy.io import loadmat\n",
    "import numpy as np\n",
    "from numpy.linalg import det, inv\n",
    "import matplotlib.pyplot as plt\n",
    "import matplotlib as mpl\n",
    "\n",
    "# Global constants\n",
    "pi = np.pi\n",
    "\n",
    "mpl.rcParams['figure.figsize'] = (10,6)"
   ]
  },
  {
   "cell_type": "markdown",
   "metadata": {},
   "source": [
    "# 1. Anomaly Detection\n",
    "- Implement an anomaly detection algorithm to detect anomalous behavior in server computers. The features measure the throughput (mb/s) and latency (ms) of response of each server. We have collected $m=307$ samples of how they were behaving, thus giving us an unlabeled dataset $\\{x^{(i)},\\ldots,x^{(m)}\\}$. We suspect that the vast majority of server samples are \"normal\" (non-anomalous) but there might also be some anomalous ones as well\n",
    "- Use a Gaussian model to detect anomalous samples in the dataset. First on a 2D dataset to visualize it"
   ]
  },
  {
   "cell_type": "markdown",
   "metadata": {},
   "source": [
    "## 1.1 Gaussian Distribution\n",
    "- Load design matrix and labels:"
   ]
  },
  {
   "cell_type": "code",
   "execution_count": 4,
   "metadata": {
    "collapsed": false
   },
   "outputs": [],
   "source": [
    "data1 = loadmat('ex8data1.mat')\n",
    "X, y = data1['X'], data1['yval'].flatten()"
   ]
  },
  {
   "cell_type": "markdown",
   "metadata": {},
   "source": [
    "- Plot dataset scatter:"
   ]
  },
  {
   "cell_type": "code",
   "execution_count": 11,
   "metadata": {
    "collapsed": false
   },
   "outputs": [
    {
     "data": {
      "image/png": "[encoded data removed]",
      "text/plain": [
       "<matplotlib.figure.Figure at 0x7efc14975470>"
      ]
     },
     "metadata": {},
     "output_type": "display_data"
    }
   ],
   "source": [
    "plt.figure()\n",
    "plt.grid()\n",
    "plt.scatter(X[:,0],X[:,1],marker='x',c='b')\n",
    "plt.xlim(0,30)\n",
    "plt.ylim(0,30)\n",
    "plt.xlabel('Latency (ms)',fontsize=14)\n",
    "plt.ylabel('Throughput (mb/s)',fontsize=14)\n",
    "plt.show()"
   ]
  },
  {
   "cell_type": "markdown",
   "metadata": {},
   "source": [
    "## 1.2 Estimating Parameters for a Gaussian\n",
    "- Estimate the Gaussian parameters for each feature:\n",
    "\n",
    "$$\n",
    "\\begin{split}\n",
    "\\mu_i & = \\frac{1}{m}\\sum_{j=1}^m x_i^{(j)}\\\\\n",
    "\\sigma_i^2 & = \\frac{1}{m}\\sum_{j=1}^m \\left(x_i^{(j)}-\\mu_i\\right)^2\n",
    "\\end{split}\n",
    "$$"
   ]
  },
  {
   "cell_type": "code",
   "execution_count": 13,
   "metadata": {
    "collapsed": true
   },
   "outputs": [],
   "source": [
    "def estimateGaussian(X):\n",
    "    '''\n",
    "    Estimates Gaussian distribution parameters mu and variance for each feature \n",
    "    \n",
    "    Parameters\n",
    "    ------------\n",
    "    X: m by n design matrix\n",
    "    \n",
    "    Returns\n",
    "    ------------\n",
    "    mu: n-dimensional vector with means of features\n",
    "    sigma: n-dimensional vector with variances of features\n",
    "    '''    \n",
    "    # Both methods use the 1/m convention for averaging by default\n",
    "    mu = np.mean(X,axis=0) # average along columns\n",
    "    sigma2 = np.std(X,axis=0) # std along column\n",
    "    \n",
    "    return mu, sigma2"
   ]
  },
  {
   "cell_type": "markdown",
   "metadata": {},
   "source": [
    "- Estimate $\\mu$ and $\\sigma^2$:"
   ]
  },
  {
   "cell_type": "code",
   "execution_count": 14,
   "metadata": {
    "collapsed": true
   },
   "outputs": [],
   "source": [
    "mu, sigma2 = estimateGaussian(X)"
   ]
  },
  {
   "cell_type": "markdown",
   "metadata": {},
   "source": [
    "- We'll be using a multi-variate (MVT) Gaussian distribution for the fit. Implement it such that if a the variable `sigma2` passed in is a matrix it will be treated as the covariance matrix \n",
    "\n",
    "$$\n",
    "\\begin{split}\n",
    "\\Sigma & = \\frac{1}{m}\\sum_{i=1}^m\\left(x^{(i)}-\\mu\\right)\\left(x^{(i)}-\\mu\\right)^T\\\\\n",
    " & = \\frac{1}{m}\\left(X-\\mu\\right)^T\\cdot\\left(X-\\mu\\right)\n",
    "\\end{split}\n",
    "$$\n",
    "\n",
    "for design matrix $X$ or if its a vector treated as the $\\sigma^2$ values of the variances in each dimension, i.e a diagonal covariance matrix\n",
    "\n",
    "$$\n",
    "\\Sigma = \\text{diag}(\\sigma_1^2,\\ldots,\\sigma_n^2)\n",
    "$$\n",
    "\n",
    ", either of shape $n\\times n$, where the mean is defined as:\n",
    "\n",
    "$$\n",
    "\\mu = \\frac{1}{m}\\sum_{i=1}^m x^{(i)}\n",
    "$$\n",
    "\n",
    "- Note that the MVT distribution probability (scalar) is defined $\\it{per}$ sample vector $x^{(i)}$ as:\n",
    "\n",
    "$$\n",
    "p_i\\left(x^{(i)};\\mu,\\Sigma\\right) = \\frac{1}{(2\\pi)^{(n/2)}\\det{\\Sigma}^{1/2}}\\exp\\left(\\frac{-1}{2}\\left(x^{(i)}-\\mu\\right)^T\\cdot\\Sigma^{-1}\\cdot\\left(x^{(i)}-\\mu\\right)\\right).\n",
    "$$\n",
    "\n",
    "Since we have $m$ such samples we'll have a vector $p$ of shape $1\\times m$"
   ]
  },
  {
   "cell_type": "code",
   "execution_count": 69,
   "metadata": {
    "collapsed": false
   },
   "outputs": [],
   "source": [
    "def multivariateGaussian(X,mu,sigma2):\n",
    "    '''\n",
    "    Computes MVT Gaussian Distribution probabilities of samples in design matrix X\n",
    "    \n",
    "    Parameters\n",
    "    ------------\n",
    "    X: m by n design matrix\n",
    "    mu: n-dimensional vector with means of features\n",
    "    sigma2: n-dimensional vector with variances of features\n",
    "\n",
    "    \n",
    "    Returns\n",
    "    ------------\n",
    "    p: m-dimensional vector of MVT probability values of samples\n",
    "    ''' \n",
    "    \n",
    "    if (sigma2.ndim==1): # i.e if a vector\n",
    "        sigma2 = np.diag(sigma2)\n",
    "    \n",
    "    n = mu.shape[0] # feature space dimension\n",
    "    m = X.shape[0] # sample set size\n",
    "    normalizing_factor = 1/((2*pi)**(n/2)*det(sigma2)**(0.5))\n",
    "    density = np.empty(m) # allocate space for p vector\n",
    "    for ii_idx,ii_sample in enumerate(X): # compute MVT distrib probability for each sample\n",
    "        density[ii_idx] = np.exp(-0.5*(ii_sample-mu).T @ inv(sigma2) @ (ii_sample-mu))\n",
    "    p = normalizing_factor * density\n",
    "    \n",
    "    return p"
   ]
  },
  {
   "cell_type": "markdown",
   "metadata": {},
   "source": [
    "- Get the density of the MVT Distribution at each data point"
   ]
  },
  {
   "cell_type": "code",
   "execution_count": 70,
   "metadata": {
    "collapsed": false
   },
   "outputs": [],
   "source": [
    "p = multivariateGaussian(X,mu,sigma2)"
   ]
  },
  {
   "cell_type": "markdown",
   "metadata": {},
   "source": [
    "## 1.3 Selecting the Threshold $\\epsilon$"
   ]
  },
  {
   "cell_type": "markdown",
   "metadata": {},
   "source": [
    "## 1.4 High-dimensioanl Dataset"
   ]
  },
  {
   "cell_type": "markdown",
   "metadata": {},
   "source": [
    "# 2. Recommender Systems"
   ]
  },
  {
   "cell_type": "markdown",
   "metadata": {},
   "source": [
    "## 2.1 Movie Ratings Dataset"
   ]
  },
  {
   "cell_type": "markdown",
   "metadata": {},
   "source": [
    "## 2.2 Collaborative Filtering Algorithm"
   ]
  },
  {
   "cell_type": "markdown",
   "metadata": {},
   "source": [
    "## 2.3 Learning Movie Recommendations"
   ]
  }
 ],
 "metadata": {
  "kernelspec": {
   "display_name": "Python [conda root]",
   "language": "python",
   "name": "conda-root-py"
  },
  "language_info": {
   "codemirror_mode": {
    "name": "ipython",
    "version": 3
   },
   "file_extension": ".py",
   "mimetype": "text/x-python",
   "name": "python",
   "nbconvert_exporter": "python",
   "pygments_lexer": "ipython3",
   "version": "3.5.2"
  }
 },
 "nbformat": 4,
 "nbformat_minor": 2
}
