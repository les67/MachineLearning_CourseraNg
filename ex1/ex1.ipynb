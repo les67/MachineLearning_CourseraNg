{
 "cells": [
  {
   "cell_type": "markdown",
   "metadata": {},
   "source": [
    "<h1><center>Programming Exercise 1:<br>Linear Regression</center></h1>"
   ]
  },
  {
   "cell_type": "code",
   "execution_count": 43,
   "metadata": {
    "collapsed": true
   },
   "outputs": [],
   "source": [
    "%matplotlib inline\n",
    "import numpy as np\n",
    "import matplotlib.pyplot as plt\n",
    "import matplotlib as mpl\n",
    "\n",
    "mpl.rcParams['figure.figsize'] = (10,6)"
   ]
  },
  {
   "cell_type": "markdown",
   "metadata": {},
   "source": [
    "# 1. Simple \"Octave/Matlab\" Function"
   ]
  },
  {
   "cell_type": "code",
   "execution_count": 10,
   "metadata": {
    "collapsed": false
   },
   "outputs": [
    {
     "data": {
      "text/plain": [
       "array([[1, 0, 0, 0, 0],\n",
       "       [0, 1, 0, 0, 0],\n",
       "       [0, 0, 1, 0, 0],\n",
       "       [0, 0, 0, 1, 0],\n",
       "       [0, 0, 0, 0, 1]])"
      ]
     },
     "execution_count": 10,
     "metadata": {},
     "output_type": "execute_result"
    }
   ],
   "source": [
    "A = np.identity(5,dtype=int) # default dtype is float\n",
    "A"
   ]
  },
  {
   "cell_type": "markdown",
   "metadata": {},
   "source": [
    "# 2. Linear Regression with One Variable\n",
    "- Assignment: As a food truck business owner, use data of population size of a city and profit in that city to help decide in which city the next food truck should be placed. \n",
    "- Data in ex1data1.txt:\n",
    "    - First column: population of a city\n",
    "    - Second column: profit of food truck in the city"
   ]
  },
  {
   "cell_type": "markdown",
   "metadata": {},
   "source": [
    "## 2.1 Plotting the Data\n",
    "- Use a scatter plot to visualize the data"
   ]
  },
  {
   "cell_type": "code",
   "execution_count": 27,
   "metadata": {
    "collapsed": false
   },
   "outputs": [
    {
     "data": {
      "text/plain": [
       "'6.1101,17.592\\n5.5277,9.1302\\n8.5186,13.662\\n7.0032,11.854\\n5.8598,6.8233\\n8.3829,11.886\\n7.4764,4.3483\\n8.5781,12\\n6.4862,6.5987\\n5.0546,3.8166\\n5.7107,3.2522\\n14.164,15.505\\n5.734,3.1551\\n8.4084,7.2258\\n5.6407,0.71618\\n5.3794,3.5129\\n6.3654,5.3048\\n5.1301,0.56077\\n6.4296,3.6518\\n7.0708,5.3893\\n6.1891,3.1386\\n20.27,21.767\\n5.4901,4.263\\n6.3261,5.1875\\n5.5649,3.0825\\n18.945,22.638\\n12.828,13.501\\n10.957,7.0467\\n13.176,14.692\\n22.203,24.147\\n5.2524,-1.22\\n6.5894,5.9966\\n9.2482,12.134\\n5.8918,1.8495\\n8.2111,6.5426\\n7.9334,4.5623\\n8.0959,4.1164\\n5.6063,3.3928\\n12.836,10.117\\n6.3534,5.4974\\n5.4069,0.55657\\n6.8825,3.9115\\n11.708,5.3854\\n5.7737,2.4406\\n7.8247,6.7318\\n7.0931,1.0463\\n5.0702,5.1337\\n5.8014,1.844\\n11.7,8.0043\\n5.5416,1.0179\\n7.5402,6.7504\\n5.3077,1.8396\\n7.4239,4.2885\\n7.6031,4.9981\\n6.3328,1.4233\\n6.3589,-1.4211\\n6.2742,2.4756\\n5.6397,4.6042\\n9.3102,3.9624\\n9.4536,5.4141\\n8.8254,5.1694\\n5.1793,-0.74279\\n21.279,17.929\\n14.908,12.054\\n18.959,17.054\\n7.2182,4.8852\\n8.2951,5.7442\\n10.236,7.7754\\n5.4994,1.0173\\n20.341,20.992\\n10.136,6.6799\\n7.3345,4.0259\\n6.0062,1.2784\\n7.2259,3.3411\\n5.0269,-2.6807\\n6.5479,0.29678\\n7.5386,3.8845\\n5.0365,5.7014\\n10.274,6.7526\\n5.1077,2.0576\\n5.7292,0.47953\\n5.1884,0.20421\\n6.3557,0.67861\\n9.7687,7.5435\\n6.5159,5.3436\\n8.5172,4.2415\\n9.1802,6.7981\\n6.002,0.92695\\n5.5204,0.152\\n5.0594,2.8214\\n5.7077,1.8451\\n7.6366,4.2959\\n5.8707,7.2029\\n5.3054,1.9869\\n8.2934,0.14454\\n13.394,9.0551\\n5.4369,0.61705\\n'"
      ]
     },
     "execution_count": 27,
     "metadata": {},
     "output_type": "execute_result"
    }
   ],
   "source": [
    "f = open('ex1data1.txt','r') # Could use Python's built-in open function\n",
    "f.read() # but this is just a long string of the data, including new line characters\n",
    "f.close()"
   ]
  },
  {
   "cell_type": "code",
   "execution_count": 32,
   "metadata": {
    "collapsed": false
   },
   "outputs": [
    {
     "data": {
      "text/plain": [
       "array([[  6.1101 ,  17.592  ],\n",
       "       [  5.5277 ,   9.1302 ],\n",
       "       [  8.5186 ,  13.662  ],\n",
       "       [  7.0032 ,  11.854  ],\n",
       "       [  5.8598 ,   6.8233 ],\n",
       "       [  8.3829 ,  11.886  ],\n",
       "       [  7.4764 ,   4.3483 ],\n",
       "       [  8.5781 ,  12.     ],\n",
       "       [  6.4862 ,   6.5987 ],\n",
       "       [  5.0546 ,   3.8166 ],\n",
       "       [  5.7107 ,   3.2522 ],\n",
       "       [ 14.164  ,  15.505  ],\n",
       "       [  5.734  ,   3.1551 ],\n",
       "       [  8.4084 ,   7.2258 ],\n",
       "       [  5.6407 ,   0.71618],\n",
       "       [  5.3794 ,   3.5129 ],\n",
       "       [  6.3654 ,   5.3048 ],\n",
       "       [  5.1301 ,   0.56077],\n",
       "       [  6.4296 ,   3.6518 ],\n",
       "       [  7.0708 ,   5.3893 ],\n",
       "       [  6.1891 ,   3.1386 ],\n",
       "       [ 20.27   ,  21.767  ],\n",
       "       [  5.4901 ,   4.263  ],\n",
       "       [  6.3261 ,   5.1875 ],\n",
       "       [  5.5649 ,   3.0825 ],\n",
       "       [ 18.945  ,  22.638  ],\n",
       "       [ 12.828  ,  13.501  ],\n",
       "       [ 10.957  ,   7.0467 ],\n",
       "       [ 13.176  ,  14.692  ],\n",
       "       [ 22.203  ,  24.147  ],\n",
       "       [  5.2524 ,  -1.22   ],\n",
       "       [  6.5894 ,   5.9966 ],\n",
       "       [  9.2482 ,  12.134  ],\n",
       "       [  5.8918 ,   1.8495 ],\n",
       "       [  8.2111 ,   6.5426 ],\n",
       "       [  7.9334 ,   4.5623 ],\n",
       "       [  8.0959 ,   4.1164 ],\n",
       "       [  5.6063 ,   3.3928 ],\n",
       "       [ 12.836  ,  10.117  ],\n",
       "       [  6.3534 ,   5.4974 ],\n",
       "       [  5.4069 ,   0.55657],\n",
       "       [  6.8825 ,   3.9115 ],\n",
       "       [ 11.708  ,   5.3854 ],\n",
       "       [  5.7737 ,   2.4406 ],\n",
       "       [  7.8247 ,   6.7318 ],\n",
       "       [  7.0931 ,   1.0463 ],\n",
       "       [  5.0702 ,   5.1337 ],\n",
       "       [  5.8014 ,   1.844  ],\n",
       "       [ 11.7    ,   8.0043 ],\n",
       "       [  5.5416 ,   1.0179 ],\n",
       "       [  7.5402 ,   6.7504 ],\n",
       "       [  5.3077 ,   1.8396 ],\n",
       "       [  7.4239 ,   4.2885 ],\n",
       "       [  7.6031 ,   4.9981 ],\n",
       "       [  6.3328 ,   1.4233 ],\n",
       "       [  6.3589 ,  -1.4211 ],\n",
       "       [  6.2742 ,   2.4756 ],\n",
       "       [  5.6397 ,   4.6042 ],\n",
       "       [  9.3102 ,   3.9624 ],\n",
       "       [  9.4536 ,   5.4141 ],\n",
       "       [  8.8254 ,   5.1694 ],\n",
       "       [  5.1793 ,  -0.74279],\n",
       "       [ 21.279  ,  17.929  ],\n",
       "       [ 14.908  ,  12.054  ],\n",
       "       [ 18.959  ,  17.054  ],\n",
       "       [  7.2182 ,   4.8852 ],\n",
       "       [  8.2951 ,   5.7442 ],\n",
       "       [ 10.236  ,   7.7754 ],\n",
       "       [  5.4994 ,   1.0173 ],\n",
       "       [ 20.341  ,  20.992  ],\n",
       "       [ 10.136  ,   6.6799 ],\n",
       "       [  7.3345 ,   4.0259 ],\n",
       "       [  6.0062 ,   1.2784 ],\n",
       "       [  7.2259 ,   3.3411 ],\n",
       "       [  5.0269 ,  -2.6807 ],\n",
       "       [  6.5479 ,   0.29678],\n",
       "       [  7.5386 ,   3.8845 ],\n",
       "       [  5.0365 ,   5.7014 ],\n",
       "       [ 10.274  ,   6.7526 ],\n",
       "       [  5.1077 ,   2.0576 ],\n",
       "       [  5.7292 ,   0.47953],\n",
       "       [  5.1884 ,   0.20421],\n",
       "       [  6.3557 ,   0.67861],\n",
       "       [  9.7687 ,   7.5435 ],\n",
       "       [  6.5159 ,   5.3436 ],\n",
       "       [  8.5172 ,   4.2415 ],\n",
       "       [  9.1802 ,   6.7981 ],\n",
       "       [  6.002  ,   0.92695],\n",
       "       [  5.5204 ,   0.152  ],\n",
       "       [  5.0594 ,   2.8214 ],\n",
       "       [  5.7077 ,   1.8451 ],\n",
       "       [  7.6366 ,   4.2959 ],\n",
       "       [  5.8707 ,   7.2029 ],\n",
       "       [  5.3054 ,   1.9869 ],\n",
       "       [  8.2934 ,   0.14454],\n",
       "       [ 13.394  ,   9.0551 ],\n",
       "       [  5.4369 ,   0.61705]])"
      ]
     },
     "execution_count": 32,
     "metadata": {},
     "output_type": "execute_result"
    }
   ],
   "source": [
    "# Can also use numpy to read that data into an array\n",
    "# Each row in the txt file will be an entry in the array\n",
    "f = np.loadtxt('ex1data1.txt',delimiter=',') # delimiting columns by \",\"\n",
    "f"
   ]
  },
  {
   "cell_type": "code",
   "execution_count": 34,
   "metadata": {
    "collapsed": false
   },
   "outputs": [
    {
     "data": {
      "text/plain": [
       "array([ 17.592  ,   9.1302 ,  13.662  ,  11.854  ,   6.8233 ,  11.886  ,\n",
       "         4.3483 ,  12.     ,   6.5987 ,   3.8166 ,   3.2522 ,  15.505  ,\n",
       "         3.1551 ,   7.2258 ,   0.71618,   3.5129 ,   5.3048 ,   0.56077,\n",
       "         3.6518 ,   5.3893 ,   3.1386 ,  21.767  ,   4.263  ,   5.1875 ,\n",
       "         3.0825 ,  22.638  ,  13.501  ,   7.0467 ,  14.692  ,  24.147  ,\n",
       "        -1.22   ,   5.9966 ,  12.134  ,   1.8495 ,   6.5426 ,   4.5623 ,\n",
       "         4.1164 ,   3.3928 ,  10.117  ,   5.4974 ,   0.55657,   3.9115 ,\n",
       "         5.3854 ,   2.4406 ,   6.7318 ,   1.0463 ,   5.1337 ,   1.844  ,\n",
       "         8.0043 ,   1.0179 ,   6.7504 ,   1.8396 ,   4.2885 ,   4.9981 ,\n",
       "         1.4233 ,  -1.4211 ,   2.4756 ,   4.6042 ,   3.9624 ,   5.4141 ,\n",
       "         5.1694 ,  -0.74279,  17.929  ,  12.054  ,  17.054  ,   4.8852 ,\n",
       "         5.7442 ,   7.7754 ,   1.0173 ,  20.992  ,   6.6799 ,   4.0259 ,\n",
       "         1.2784 ,   3.3411 ,  -2.6807 ,   0.29678,   3.8845 ,   5.7014 ,\n",
       "         6.7526 ,   2.0576 ,   0.47953,   0.20421,   0.67861,   7.5435 ,\n",
       "         5.3436 ,   4.2415 ,   6.7981 ,   0.92695,   0.152  ,   2.8214 ,\n",
       "         1.8451 ,   4.2959 ,   7.2029 ,   1.9869 ,   0.14454,   9.0551 ,\n",
       "         0.61705])"
      ]
     },
     "execution_count": 34,
     "metadata": {},
     "output_type": "execute_result"
    }
   ],
   "source": [
    "# Can further use unpack=True so that the array is transposed and can be unpacked as follows\n",
    "population,profit = np.loadtxt('ex1data1.txt',delimiter=',',unpack=True)\n",
    "population\n",
    "profit"
   ]
  },
  {
   "cell_type": "code",
   "execution_count": 55,
   "metadata": {
    "collapsed": false
   },
   "outputs": [
    {
     "data": {
      "text/plain": [
       "<matplotlib.text.Text at 0x7fb344438668>"
      ]
     },
     "execution_count": 55,
     "metadata": {},
     "output_type": "execute_result"
    },
    {
     "data": {
      "image/png": "[encoded data removed]",
      "text/plain": [
       "<matplotlib.figure.Figure at 0x7fb344492828>"
      ]
     },
     "metadata": {},
     "output_type": "display_data"
    }
   ],
   "source": [
    "plt.figure()\n",
    "plt.clf()\n",
    "plt.grid(True)\n",
    "plt.scatter(population,profit,marker='x',c='r')\n",
    "plt.xlim(4,24)\n",
    "plt.ylim(-5,25)\n",
    "plt.xlabel('Population of City in 10,000s',fontsize=12)\n",
    "plt.ylabel('Profit in $10,000s',fontsize=12)\n",
    "plt.legend()"
   ]
  },
  {
   "cell_type": "markdown",
   "metadata": {},
   "source": [
    "## 2.2 Gradient Descent\n",
    "- Fit linear regression parameters $\\theta$ to our dataset using GD\n",
    "- Note that the symbol \"$\" is a Latex notation wrapper, single dollar sign for inline and double for new line\n",
    "    - See http://data-blog.udacity.com/posts/2016/10/latex-primer/"
   ]
  },
  {
   "cell_type": "code",
   "execution_count": 61,
   "metadata": {
    "collapsed": false
   },
   "outputs": [
    {
     "data": {
      "text/plain": [
       "array([[  1.    ,   6.1101],\n",
       "       [  1.    ,   5.5277],\n",
       "       [  1.    ,   8.5186],\n",
       "       [  1.    ,   7.0032],\n",
       "       [  1.    ,   5.8598],\n",
       "       [  1.    ,   8.3829],\n",
       "       [  1.    ,   7.4764],\n",
       "       [  1.    ,   8.5781],\n",
       "       [  1.    ,   6.4862],\n",
       "       [  1.    ,   5.0546],\n",
       "       [  1.    ,   5.7107],\n",
       "       [  1.    ,  14.164 ],\n",
       "       [  1.    ,   5.734 ],\n",
       "       [  1.    ,   8.4084],\n",
       "       [  1.    ,   5.6407],\n",
       "       [  1.    ,   5.3794],\n",
       "       [  1.    ,   6.3654],\n",
       "       [  1.    ,   5.1301],\n",
       "       [  1.    ,   6.4296],\n",
       "       [  1.    ,   7.0708],\n",
       "       [  1.    ,   6.1891],\n",
       "       [  1.    ,  20.27  ],\n",
       "       [  1.    ,   5.4901],\n",
       "       [  1.    ,   6.3261],\n",
       "       [  1.    ,   5.5649],\n",
       "       [  1.    ,  18.945 ],\n",
       "       [  1.    ,  12.828 ],\n",
       "       [  1.    ,  10.957 ],\n",
       "       [  1.    ,  13.176 ],\n",
       "       [  1.    ,  22.203 ],\n",
       "       [  1.    ,   5.2524],\n",
       "       [  1.    ,   6.5894],\n",
       "       [  1.    ,   9.2482],\n",
       "       [  1.    ,   5.8918],\n",
       "       [  1.    ,   8.2111],\n",
       "       [  1.    ,   7.9334],\n",
       "       [  1.    ,   8.0959],\n",
       "       [  1.    ,   5.6063],\n",
       "       [  1.    ,  12.836 ],\n",
       "       [  1.    ,   6.3534],\n",
       "       [  1.    ,   5.4069],\n",
       "       [  1.    ,   6.8825],\n",
       "       [  1.    ,  11.708 ],\n",
       "       [  1.    ,   5.7737],\n",
       "       [  1.    ,   7.8247],\n",
       "       [  1.    ,   7.0931],\n",
       "       [  1.    ,   5.0702],\n",
       "       [  1.    ,   5.8014],\n",
       "       [  1.    ,  11.7   ],\n",
       "       [  1.    ,   5.5416],\n",
       "       [  1.    ,   7.5402],\n",
       "       [  1.    ,   5.3077],\n",
       "       [  1.    ,   7.4239],\n",
       "       [  1.    ,   7.6031],\n",
       "       [  1.    ,   6.3328],\n",
       "       [  1.    ,   6.3589],\n",
       "       [  1.    ,   6.2742],\n",
       "       [  1.    ,   5.6397],\n",
       "       [  1.    ,   9.3102],\n",
       "       [  1.    ,   9.4536],\n",
       "       [  1.    ,   8.8254],\n",
       "       [  1.    ,   5.1793],\n",
       "       [  1.    ,  21.279 ],\n",
       "       [  1.    ,  14.908 ],\n",
       "       [  1.    ,  18.959 ],\n",
       "       [  1.    ,   7.2182],\n",
       "       [  1.    ,   8.2951],\n",
       "       [  1.    ,  10.236 ],\n",
       "       [  1.    ,   5.4994],\n",
       "       [  1.    ,  20.341 ],\n",
       "       [  1.    ,  10.136 ],\n",
       "       [  1.    ,   7.3345],\n",
       "       [  1.    ,   6.0062],\n",
       "       [  1.    ,   7.2259],\n",
       "       [  1.    ,   5.0269],\n",
       "       [  1.    ,   6.5479],\n",
       "       [  1.    ,   7.5386],\n",
       "       [  1.    ,   5.0365],\n",
       "       [  1.    ,  10.274 ],\n",
       "       [  1.    ,   5.1077],\n",
       "       [  1.    ,   5.7292],\n",
       "       [  1.    ,   5.1884],\n",
       "       [  1.    ,   6.3557],\n",
       "       [  1.    ,   9.7687],\n",
       "       [  1.    ,   6.5159],\n",
       "       [  1.    ,   8.5172],\n",
       "       [  1.    ,   9.1802],\n",
       "       [  1.    ,   6.002 ],\n",
       "       [  1.    ,   5.5204],\n",
       "       [  1.    ,   5.0594],\n",
       "       [  1.    ,   5.7077],\n",
       "       [  1.    ,   7.6366],\n",
       "       [  1.    ,   5.8707],\n",
       "       [  1.    ,   5.3054],\n",
       "       [  1.    ,   8.2934],\n",
       "       [  1.    ,  13.394 ],\n",
       "       [  1.    ,   5.4369]])"
      ]
     },
     "execution_count": 61,
     "metadata": {},
     "output_type": "execute_result"
    }
   ],
   "source": [
    "# First let's append a column of values of x_0 = 1 to our population array\n",
    "x0 = np.ones_like(population)\n",
    "design = np.c_[x0,population] # we have built the \"design matrix\" (see notes)\n",
    "design "
   ]
  },
  {
   "cell_type": "code",
   "execution_count": 95,
   "metadata": {
    "collapsed": true
   },
   "outputs": [],
   "source": [
    "def hypothesis(design,theta):\n",
    "    '''\n",
    "    Computes the hypothesis fuction which in matrix notation is H = X * Theta\n",
    "    where X is the m by (n+1) design matrix and Theta is an (n+1) vector of the fit parameters\n",
    "    Returns H which is an m by 1 matrix \n",
    "    \n",
    "    Parameters\n",
    "    ----------\n",
    "    design: m by (n+1) design matrix\n",
    "    theta: (n+1) fit parameter vector\n",
    "    \n",
    "    Returns\n",
    "    -------\n",
    "    hyp: m-dimensional hypothesis function vector \n",
    "    '''\n",
    "    \n",
    "    hyp = np.dot(design,theta)\n",
    "    return hyp"
   ]
  },
  {
   "cell_type": "code",
   "execution_count": 96,
   "metadata": {
    "collapsed": true
   },
   "outputs": [],
   "source": [
    "def costFunction(design,theta,output):\n",
    "    '''\n",
    "    Computes the cost function J = 1/2m*(X*Theta-Y)^T*(X*Theta-Y) which is a function of Theta for a given sample set\n",
    "    X is the design matrix of shape m by (n+1), Theta is the fit (n+1) parameter vector, and Y is the m output vector\n",
    "    Returns the scalar J\n",
    "    \n",
    "    Parameters\n",
    "    ----------\n",
    "    design: m by (n+1) design matrix\n",
    "    theta: (n+1) fit parameter vector\n",
    "    output: m-dimensional output vector\n",
    "    \n",
    "    Returns\n",
    "    -------\n",
    "    costJ: value of the cost function (scalar) \n",
    "    '''\n",
    "    costArg = hypothesis(design,theta) - output\n",
    "    m = np.shape(design)[0] # sample size\n",
    "    costJ = 1/(2*m)*np.dot(np.transpose(costArg),costArg)\n",
    "    return costJ"
   ]
  },
  {
   "cell_type": "code",
   "execution_count": 186,
   "metadata": {
    "collapsed": false
   },
   "outputs": [
    {
     "data": {
      "text/plain": [
       "array([ 0.,  0.])"
      ]
     },
     "execution_count": 186,
     "metadata": {},
     "output_type": "execute_result"
    }
   ],
   "source": [
    "# Let's initialize the theta vector\n",
    "theta = np.zeros(np.shape(design)[1]) # Theta is an (n+1) vector\n",
    "theta"
   ]
  },
  {
   "cell_type": "code",
   "execution_count": 187,
   "metadata": {
    "collapsed": false
   },
   "outputs": [
    {
     "data": {
      "text/plain": [
       "32.072733877455669"
      ]
     },
     "execution_count": 187,
     "metadata": {},
     "output_type": "execute_result"
    }
   ],
   "source": [
    "# Test the cost function and hypothesis function\n",
    "costFunction(design,theta,profit)"
   ]
  },
  {
   "cell_type": "code",
   "execution_count": 188,
   "metadata": {
    "collapsed": false
   },
   "outputs": [],
   "source": [
    "# As we iterate through different values of theta we want to keep a record of J\n",
    "history_j = dict.fromkeys(['theta_history','J_history'])\n",
    "\n",
    "# How many iterations of GD? Learning rate?\n",
    "iterations = 1500\n",
    "alpha = 0.01\n",
    "\n",
    "# Allocate space\n",
    "history_j['J_history'] = np.empty(iterations)\n",
    "history_j['theta_history'] = np.empty((iterations,np.shape(theta)[0]))"
   ]
  },
  {
   "cell_type": "code",
   "execution_count": 189,
   "metadata": {
    "collapsed": false
   },
   "outputs": [],
   "source": [
    "def gradientDescent(design,theta,output,history_j=None,alpha=0.1,iterations=0):\n",
    "    '''\n",
    "    Performs update of (n+1) fit parameters with batch gradient descent method, i.e\n",
    "        Theta_J := Theta_j - alpha*dJ/dTheta_j for j=0,2,..,n\n",
    "                 = Theta - X^T*(X*Theta-y)\n",
    "        \n",
    "    Parameters\n",
    "    ----------\n",
    "    design: m by (n+1) design matrix\n",
    "    theta: (n+1) fit parameter vector\n",
    "    output: m-dimensional output vector\n",
    "    history_j (optional): dictionary with key \"theta_history\" where we keep all values of theta vector as we iterate\n",
    "    alpha: scalar learning rate\n",
    "    iterations: number of iterations\n",
    "    '''\n",
    "    print('Initial values:')\n",
    "    for idx_theta,ii_theta in enumerate(theta):\n",
    "        print('\\tTheta_{}: {}'.format(str(idx_theta),ii_theta))\n",
    "        print('\\tCost Function J: {}'.format(costFunction(design,theta,output)))\n",
    "    m = np.shape(design)[0] # sample size\n",
    "    \n",
    "    # Step through parameter space\n",
    "    for ii_iter in range(iterations):\n",
    "        theta[:] = theta - (alpha/m)*np.dot(np.transpose(design),hypothesis(design,theta)-output) # [:] will assign values to the elements of the theta array and thus will change the original array\n",
    "                                                                                                  # if we do theta = tem_theta instead, the value it pointed to before the assignment in this function will remain unchanged\n",
    "        if history_j is not None: # if we've provided a dictionary, save the respective value\n",
    "            history_j[\"theta_history\"][ii_iter] = theta\n",
    "            history_j[\"J_history\"][ii_iter] = costFunction(design,theta,output)\n",
    "    \n",
    "    print('\\nAfter {} iterations, final values:'.format(iterations))\n",
    "    for idx_theta,ii_theta in enumerate(theta):\n",
    "        print('\\tTheta_{}: {}'.format(str(idx_theta),ii_theta))\n",
    "        \n",
    "    print('\\tCost Function J: {}'.format(costFunction(design,theta,output)))"
   ]
  },
  {
   "cell_type": "code",
   "execution_count": 190,
   "metadata": {
    "collapsed": false
   },
   "outputs": [
    {
     "name": "stdout",
     "output_type": "stream",
     "text": [
      "Initial values:\n",
      "\tTheta_0: 0.0\n",
      "\tCost Function J: 32.07273387745567\n",
      "\tTheta_1: 0.0\n",
      "\tCost Function J: 32.07273387745567\n",
      "\n",
      "After 1500 iterations, final values:\n",
      "\tTheta_0: -3.63029143940436\n",
      "\tTheta_1: 1.166362350335582\n",
      "\tCost Function J: 4.483388256587726\n"
     ]
    }
   ],
   "source": [
    "gradientDescent(design,theta,profit,history_j,alpha,iterations)"
   ]
  },
  {
   "cell_type": "code",
   "execution_count": 191,
   "metadata": {
    "collapsed": false
   },
   "outputs": [
    {
     "data": {
      "text/plain": [
       "array([-3.63029144,  1.16636235])"
      ]
     },
     "execution_count": 191,
     "metadata": {},
     "output_type": "execute_result"
    }
   ],
   "source": [
    "# Let's check theta\n",
    "theta"
   ]
  },
  {
   "cell_type": "code",
   "execution_count": 192,
   "metadata": {
    "collapsed": false
   },
   "outputs": [
    {
     "data": {
      "image/png": "[encoded data removed]",
      "text/plain": [
       "<matplotlib.figure.Figure at 0x7fb344174c88>"
      ]
     },
     "metadata": {},
     "output_type": "display_data"
    }
   ],
   "source": [
    "# Plot the fit to the data\n",
    "plt.figure()\n",
    "plt.clf()\n",
    "plt.grid(True)\n",
    "plt.scatter(population,profit,marker='x',c='r',label='Data')\n",
    "plt.plot(population,hypothesis(design,theta),'-b',label='Linear Regression Fit')\n",
    "plt.xlim(4,24)\n",
    "plt.ylim(-5,25)\n",
    "plt.xlabel('Population of City in 10,000s',fontsize=12)\n",
    "plt.ylabel('Profit in $10,000s',fontsize=12)\n",
    "plt.legend(loc='lower right',fontsize='medium')\n",
    "plt.show()"
   ]
  },
  {
   "cell_type": "code",
   "execution_count": 202,
   "metadata": {
    "collapsed": false
   },
   "outputs": [
    {
     "data": {
      "image/png": "[encoded data removed]",
      "text/plain": [
       "<matplotlib.figure.Figure at 0x7fb3439b3518>"
      ]
     },
     "metadata": {},
     "output_type": "display_data"
    }
   ],
   "source": [
    "# Plot the values of the cost function over iterations of GD\n",
    "plt.figure()\n",
    "plt.clf()\n",
    "plt.grid(True)\n",
    "plt.scatter(np.arange(iterations),history_j['J_history'],marker='.',c='k')\n",
    "plt.xlabel(\"Number of Iterations\",fontsize=14)\n",
    "plt.ylabel(\"Cost Function J($\\\\theta$)\",fontsize=14)\n",
    "plt.title(\"Convergence of Cost Function over Gradient Descent\",fontsize=14)\n",
    "plt.show()"
   ]
  },
  {
   "cell_type": "code",
   "execution_count": 203,
   "metadata": {
    "collapsed": true
   },
   "outputs": [],
   "source": [
    "# Now we need to visualize the cost function over a mesh of values of theta_0 and theta_1\n",
    "\n",
    "# Mesh\n",
    "h = .02  # step size in the mesh\n",
    "theta0_min, theta0_max = -10,10\n",
    "theta1_min, theta1_max = -1,4\n",
    "xx, yy = np.meshgrid(np.arange(theta0_min, theta0_max, h),np.arange(theta1_min, theta1_max, h))"
   ]
  },
  {
   "cell_type": "markdown",
   "metadata": {},
   "source": [
    "# 3. Linear Regression with Multiple Variables"
   ]
  }
 ],
 "metadata": {
  "kernelspec": {
   "display_name": "Python [conda root]",
   "language": "python",
   "name": "conda-root-py"
  },
  "language_info": {
   "codemirror_mode": {
    "name": "ipython",
    "version": 3
   },
   "file_extension": ".py",
   "mimetype": "text/x-python",
   "name": "python",
   "nbconvert_exporter": "python",
   "pygments_lexer": "ipython3",
   "version": "3.5.2"
  }
 },
 "nbformat": 4,
 "nbformat_minor": 2
}
